{
 "cells": [
  {
   "cell_type": "markdown",
   "metadata": {},
   "source": [
    "# Web_Programing\n"
   ]
  },
  {
   "cell_type": "code",
   "execution_count": null,
   "metadata": {},
   "outputs": [],
   "source": [
    "# # IP address 2 IP\n",
    "# public internet IP\n",
    "# private  LJ PC\n",
    "\n",
    "# # port\n",
    "# do multi port for multi work diff port diff work \n",
    "# https,http\n",
    "\n",
    "# # sockets 2 part\n",
    "# server utf-8 encoding\n",
    "# client   http  decode \n",
    "# 1)TCP client first connect  \n",
    "# 2)UDP "
   ]
  },
  {
   "cell_type": "code",
   "execution_count": null,
   "metadata": {},
   "outputs": [],
   "source": [
    "Server \n",
    "        socket bind  listen accept    read write read close\n",
    "                               ^      ^          \n",
    "client                         |      |    |     |\n",
    "        socket              connect write  read close  \n",
    "\n",
    "    send encode\n",
    "    and catch decode"
   ]
  },
  {
   "cell_type": "code",
   "execution_count": null,
   "metadata": {},
   "outputs": [],
   "source": [
    "socket\n",
    "bind \n",
    "listen how many it will check max 5 req done\n",
    "accept first req accept when client send req client so obj \n",
    "read  "
   ]
  },
  {
   "cell_type": "code",
   "execution_count": null,
   "metadata": {},
   "outputs": [],
   "source": [
    "# netstat -a -n -o "
   ]
  },
  {
   "cell_type": "code",
   "execution_count": 36,
   "metadata": {},
   "outputs": [
    {
     "name": "stdout",
     "output_type": "stream",
     "text": [
      "410B-131\n",
      "192.168.107.131\n",
      "56907\n"
     ]
    }
   ],
   "source": [
    "import socket \n",
    "hostname=socket.gethostname()\n",
    "ip_address=socket.gethostbyname(hostname)\n",
    "s=socket.socket(type=socket.SOCK_STREAM)\n",
    "# type is default for  TCP create socket \n",
    "s.bind(('localhost',0))\n",
    "addr,port=s.getsockname()\n",
    "print(hostname)\n",
    "print(ip_address)\n",
    "print(port)"
   ]
  },
  {
   "cell_type": "code",
   "execution_count": 1,
   "metadata": {},
   "outputs": [
    {
     "name": "stdout",
     "output_type": "stream",
     "text": [
      "Overwriting server_tcp.py\n"
     ]
    }
   ],
   "source": [
    "%%writefile server_tcp.py\n",
    "import socket\n",
    "host=socket.gethostname()\n",
    "port=2000\n",
    "server=socket.socket()\n",
    "# default TCP \n",
    "server.bind((host,port))\n",
    "server.listen()\n",
    "conn,addr=server.accept()\n",
    "print(\"connection from\",str(addr))\n",
    "while True:\n",
    "    data=conn.recv(1024).decode()\n",
    "    if not data:\n",
    "        break\n",
    "    print(data)\n",
    "    data=input(\"enter msg for response\")\n",
    "    conn.send(data.encode())\n",
    "conn.close()"
   ]
  },
  {
   "cell_type": "code",
   "execution_count": 2,
   "metadata": {},
   "outputs": [
    {
     "name": "stdout",
     "output_type": "stream",
     "text": [
      "Overwriting client_tcp.py\n"
     ]
    }
   ],
   "source": [
    "%%writefile client_tcp.py\n",
    "import socket \n",
    "host='192.168.107.130'\n",
    "port=2000\n",
    "server=socket.socket()\n",
    "# default TCP \n",
    "client=socket.socket()\n",
    "client.connect((host,port))\n",
    "msg=input(\"enter msg to send\")\n",
    "while msg!=\"\":\n",
    "    client.send(msg.encode())\n",
    "    data=client.recv(1024).decode()\n",
    "    print(\"Received from server\",data)\n",
    "    msg=input(\"nenter msg for send\")\n",
    "client.close()\n"
   ]
  },
  {
   "cell_type": "code",
   "execution_count": 41,
   "metadata": {},
   "outputs": [
    {
     "data": {
      "text/plain": [
       "'C:\\\\Users\\\\LJENG\\\\Deep_Learning'"
      ]
     },
     "execution_count": 41,
     "metadata": {},
     "output_type": "execute_result"
    }
   ],
   "source": [
    "pwd."
   ]
  },
  {
   "cell_type": "code",
   "execution_count": null,
   "metadata": {},
   "outputs": [],
   "source": [
    "client enter 3 then ans by server is 27  and say by than close connection"
   ]
  },
  {
   "cell_type": "code",
   "execution_count": 55,
   "metadata": {},
   "outputs": [
    {
     "name": "stdout",
     "output_type": "stream",
     "text": [
      "Overwriting server_tcp.py\n"
     ]
    }
   ],
   "source": [
    "%%writefile server_tcp.py\n",
    "import socket\n",
    "host=socket.gethostname()\n",
    "port=2000\n",
    "server=socket.socket()\n",
    "# default TCP \n",
    "server.bind((host,port))\n",
    "server.listen()\n",
    "conn,addr=server.accept()\n",
    "print(\"connection from\",str(addr))\n",
    "while True:\n",
    "    data=conn.recv(1024).decode()\n",
    "    if not data:\n",
    "        break\n",
    "    else:\n",
    "        data=int(data)*int(data)*int(data)\n",
    "        print(data)\n",
    "    if data=='by':\n",
    "        break\n",
    "    data=input(\"enter msg for response\")\n",
    "    conn.send(data.encode())\n",
    "conn.close()"
   ]
  },
  {
   "cell_type": "code",
   "execution_count": 56,
   "metadata": {},
   "outputs": [
    {
     "name": "stdout",
     "output_type": "stream",
     "text": [
      "Overwriting client_tcp.py\n"
     ]
    }
   ],
   "source": [
    "%%writefile client_tcp.py\n",
    "import socket \n",
    "host=socket.gethostname()\n",
    "port=2000\n",
    "server=socket.socket()\n",
    "# default TCP \n",
    "client=socket.socket()\n",
    "client.connect((host,port))\n",
    "msg=input(\"enter msg to send\")\n",
    "while msg!=\"\":\n",
    "    client.send(msg.encode())\n",
    "    data=client.recv(1024).decode()\n",
    "    print(\"Received from server\",data)\n",
    "    msg=input(\"nenter msg for send\")\n",
    "client.close()\n"
   ]
  },
  {
   "cell_type": "code",
   "execution_count": null,
   "metadata": {},
   "outputs": [],
   "source": [
    "import socket\n",
    "#SERVER NAME AND ADDRESS\n",
    "host = '0.0.0.0'\n",
    "port = 9000\n",
    "#CREATE SERVER SIDE SOCKET USING TCP\n",
    "s = socket.socket(socket.AF_INET, socket.SOCK_STREAM)\n",
    "#BIND SOCKET WITH SERVER AND PORT\n",
    "s.bind((host,port))\n",
    "#ALLOW MAX ONE CONNECTION TO THE SOCKET\n",
    "s.listen(1)\n",
    "# WAIT TILL CLIENT ACCEPTS CONNECTION\n",
    "c,addr = s.accept()\n",
    "# DISPLAY CLIENT ADDRESS\n",
    "print(\"connection established from - \", str(addr))\n",
    "# RUN SERVER CONTINUOUSLY\n",
    "while True:\n",
    "    data = c.recv(1024)\n",
    "    #IF CLIENT SENDS EMPTY STRING, COME OUT OF WHILE LOOP\n",
    "    if not data:\n",
    "        break\n",
    "    print(\"From client - \" + str(data.decode()))\n",
    "    # ENTER RESPONSE FROM SERVER\n",
    "    data1 = input(\"Enter the response = \")\n",
    "    # SEND THAT DATA TO CLIENT\n",
    "    c.send(data1.encode())\n",
    "# DISCONNECT SERVER\n",
    "c.close()\n"
   ]
  }
 ],
 "metadata": {
  "kernelspec": {
   "display_name": "Python 3",
   "language": "python",
   "name": "python3"
  },
  "language_info": {
   "codemirror_mode": {
    "name": "ipython",
    "version": 3
   },
   "file_extension": ".py",
   "mimetype": "text/x-python",
   "name": "python",
   "nbconvert_exporter": "python",
   "pygments_lexer": "ipython3",
   "version": "3.8.5"
  }
 },
 "nbformat": 4,
 "nbformat_minor": 4
}
