{
 "cells": [
  {
   "cell_type": "markdown",
   "metadata": {},
   "source": [
    "## SERVER"
   ]
  },
  {
   "cell_type": "code",
   "execution_count": 1,
   "metadata": {},
   "outputs": [
    {
     "name": "stdout",
     "output_type": "stream",
     "text": [
      "Writing serverprog.py\n"
     ]
    }
   ],
   "source": [
    "%%writefile serverprog.py\n",
    "import socket\n",
    "#SERVER NAME AND ADDRESS\n",
    "host = 'localhost'\n",
    "port = 5000\n",
    "#CREATE SERVER SIDE SOCKET USING TCP\n",
    "s = socket.socket(socket.AF_INET, socket.SOCK_STREAM)\n",
    "#BIND SOCKET WITH SERVER AND PORT\n",
    "s.bind((host,port))\n",
    "#ALLOW MAX ONE CONNECTION TO THE SOCKET\n",
    "s.listen(1)\n",
    "# WAIT TILL CLIENT ACCEPTS CONNECTION\n",
    "c,addr = s.accept()\n",
    "# DISPLAY CLIENT ADDRESS\n",
    "print(\"connection established from - \", str(addr))\n",
    "# SEND ENCODED MESSAGE TO CLIENT\n",
    "c.send(b\"Hello client, How are you?\")\n",
    "msg = 'bye'\n",
    "c.send(msg.encode())\n",
    "# DISCONNECT SERVER\n",
    "c.close()"
   ]
  },
  {
   "cell_type": "markdown",
   "metadata": {},
   "source": [
    "## CLIENT"
   ]
  },
  {
   "cell_type": "code",
   "execution_count": 2,
   "metadata": {},
   "outputs": [
    {
     "name": "stdout",
     "output_type": "stream",
     "text": [
      "Writing clientprog.py\n"
     ]
    }
   ],
   "source": [
    "%%writefile clientprog.py\n",
    "import socket\n",
    "# TAKE SERVER NAME AND ADDRESS\n",
    "host = 'localhost'\n",
    "port = 5000\n",
    "#CREATE CLIENT SIDE SOCKET USING TCP\n",
    "s = socket.socket(socket.AF_INET, socket.SOCK_STREAM)\n",
    "#CONNECT SOCKET WITH SERVER AND PORT\n",
    "s.connect((host,port))\n",
    "# RECEIVE MAX 1024 BYTES MESSAGE FROM SERVER AT A TIME\n",
    "msg = s.recv(1024)\n",
    "# REPEAT AS LONG AS MESSAGE IS NOT EMPTY\n",
    "while msg:\n",
    "    print(\"Received - \", msg.decode())\n",
    "    msg = s.recv(1024)\n",
    "# DISCONNECT SERVER\n",
    "s.close()"
   ]
  },
  {
   "cell_type": "markdown",
   "metadata": {},
   "source": [
    "## Client2"
   ]
  },
  {
   "cell_type": "code",
   "execution_count": 3,
   "metadata": {},
   "outputs": [
    {
     "name": "stdout",
     "output_type": "stream",
     "text": [
      "Writing client2.py\n"
     ]
    }
   ],
   "source": [
    "%%writefile client2.py\n",
    "import socket\n",
    "# TAKE SERVER NAME AND ADDRESS\n",
    "host = 'localhost'\n",
    "port = 9000\n",
    "#CREATE CLIENT SIDE SOCKET USING TCP\n",
    "s = socket.socket(socket.AF_INET, socket.SOCK_STREAM)\n",
    "#CONNECT SOCKET WITH SERVER AND PORT\n",
    "s.connect((host,port))\n",
    "# ENTER DATA AT CLIENT \n",
    "str = input(\"Enter data - \")\n",
    "# REPEAT AS LONG AS MESSAGE IS NOT exit\n",
    "while str != 'exit':\n",
    "   # SEND  DATA FROM CLIENT TO SERVER\n",
    "    s.send(str.encode())\n",
    "    # RECEIVE RESPONSE DATA FROM SERVER\n",
    "    data = s.recv(1024)\n",
    "    data = data.decode()\n",
    "    print(\"From server - \" + data)\n",
    "    # ENTER DATA\n",
    "    str = input(\"Enter data - \")\n",
    "# DISCONNECT SERVER\n",
    "s.close()"
   ]
  },
  {
   "cell_type": "markdown",
   "metadata": {},
   "source": [
    "## Server2"
   ]
  },
  {
   "cell_type": "code",
   "execution_count": 5,
   "metadata": {},
   "outputs": [
    {
     "name": "stdout",
     "output_type": "stream",
     "text": [
      "Writing server2.py\n"
     ]
    }
   ],
   "source": [
    "%%writefile server2.py\n",
    "import socket\n",
    "#SERVER NAME AND ADDRESS\n",
    "host = 'localhost'\n",
    "port = 9000\n",
    "#CREATE SERVER SIDE SOCKET USING TCP\n",
    "s = socket.socket(socket.AF_INET, socket.SOCK_STREAM)\n",
    "#BIND SOCKET WITH SERVER AND PORT\n",
    "s.bind((host,port))\n",
    "#ALLOW MAX ONE CONNECTION TO THE SOCKET\n",
    "s.listen(1)\n",
    "# WAIT TILL CLIENT ACCEPTS CONNECTION\n",
    "c,addr = s.accept()\n",
    "# DISPLAY CLIENT ADDRESS\n",
    "print(\"connection established from - \", str(addr))\n",
    "# RUN SERVER CONTINUOUSLY\n",
    "while True:\n",
    "    data = c.recv(1024)\n",
    "    #IF CLIENT SENDS EMPTY STRING, COME OUT OF WHILE LOOP\n",
    "    if not data:\n",
    "        break\n",
    "    print(\"From client - \" + str(data.decode()))\n",
    "    # ENTER RESPONSE FROM SERVER\n",
    "    data1 = input(\"Enter the response = \")\n",
    "    # SEND THAT DATA TO CLIENT\n",
    "    c.send(data1.encode())\n",
    "# DISCONNECT SERVER\n",
    "c.close()"
   ]
  },
  {
   "cell_type": "markdown",
   "metadata": {},
   "source": [
    "## Me (Server)"
   ]
  },
  {
   "cell_type": "code",
   "execution_count": 11,
   "metadata": {},
   "outputs": [
    {
     "name": "stdout",
     "output_type": "stream",
     "text": [
      "Overwriting Ankita.py\n"
     ]
    }
   ],
   "source": [
    "%%writefile Ankita.py\n",
    "import socket\n",
    "#SERVER NAME AND ADDRESS\n",
    "host = '0.0.0.0'\n",
    "port = 9000\n",
    "#CREATE SERVER SIDE SOCKET USING TCP\n",
    "s = socket.socket(socket.AF_INET, socket.SOCK_STREAM)\n",
    "#BIND SOCKET WITH SERVER AND PORT\n",
    "s.bind((host,port))\n",
    "#ALLOW MAX ONE CONNECTION TO THE SOCKET\n",
    "s.listen(1)\n",
    "# WAIT TILL CLIENT ACCEPTS CONNECTION\n",
    "c,addr = s.accept()\n",
    "# DISPLAY CLIENT ADDRESS\n",
    "print(\"connection established from - \", str(addr))\n",
    "# RUN SERVER CONTINUOUSLY\n",
    "while True:\n",
    "    data = c.recv(1024)\n",
    "    #IF CLIENT SENDS EMPTY STRING, COME OUT OF WHILE LOOP\n",
    "    if not data:\n",
    "        break\n",
    "    print(\"From client - \" + str(data.decode()))\n",
    "    # ENTER RESPONSE FROM SERVER\n",
    "    data1 = input(\"Enter the response = \")\n",
    "    # SEND THAT DATA TO CLIENT\n",
    "    c.send(data1.encode())\n",
    "# DISCONNECT SERVER\n",
    "c.close()"
   ]
  },
  {
   "cell_type": "markdown",
   "metadata": {},
   "source": [
    "## Helly (Client)"
   ]
  },
  {
   "cell_type": "code",
   "execution_count": 13,
   "metadata": {},
   "outputs": [
    {
     "name": "stdout",
     "output_type": "stream",
     "text": [
      "Overwriting helly.py\n"
     ]
    }
   ],
   "source": [
    "%%writefile helly.py\n",
    "import socket\n",
    "# TAKE SERVER NAME AND ADDRESS\n",
    "host = '192.168.107.130'\n",
    "port = 9000\n",
    "#CREATE CLIENT SIDE SOCKET USING TCP\n",
    "s = socket.socket(socket.AF_INET, socket.SOCK_STREAM)\n",
    "#CONNECT SOCKET WITH SERVER AND PORT\n",
    "s.connect((host,port))\n",
    "# ENTER DATA AT CLIENT \n",
    "str = input(\"Enter data - \")\n",
    "# REPEAT AS LONG AS MESSAGE IS NOT exit\n",
    "while str != 'exit':\n",
    "   # SEND  DATA FROM CLIENT TO SERVER\n",
    "    s.send(str.encode())\n",
    "    # RECEIVE RESPONSE DATA FROM SERVER\n",
    "    data = s.recv(1024)\n",
    "    data = data.decode()\n",
    "    print(\"From server - \" + data)\n",
    "    # ENTER DATA\n",
    "    str = input(\"Enter data - \")\n",
    "# DISCONNECT SERVER\n",
    "s.close()"
   ]
  },
  {
   "cell_type": "markdown",
   "metadata": {},
   "source": [
    "## Port Scanner"
   ]
  },
  {
   "cell_type": "code",
   "execution_count": 14,
   "metadata": {},
   "outputs": [
    {
     "name": "stdout",
     "output_type": "stream",
     "text": [
      "What you want to scan?: www.ljku.edu.in\n"
     ]
    },
    {
     "ename": "gaierror",
     "evalue": "[Errno 11001] getaddrinfo failed",
     "output_type": "error",
     "traceback": [
      "\u001b[1;31m---------------------------------------------------------------------------\u001b[0m",
      "\u001b[1;31mgaierror\u001b[0m                                  Traceback (most recent call last)",
      "\u001b[1;32m<ipython-input-14-8f5406464200>\u001b[0m in \u001b[0;36m<module>\u001b[1;34m\u001b[0m\n\u001b[0;32m      4\u001b[0m \u001b[0mtarget\u001b[0m \u001b[1;33m=\u001b[0m \u001b[0minput\u001b[0m\u001b[1;33m(\u001b[0m\u001b[1;34m'What you want to scan?: '\u001b[0m\u001b[1;33m)\u001b[0m\u001b[1;33m\u001b[0m\u001b[1;33m\u001b[0m\u001b[0m\n\u001b[0;32m      5\u001b[0m \u001b[1;31m# getting the ip address using gethostbyname function\u001b[0m\u001b[1;33m\u001b[0m\u001b[1;33m\u001b[0m\u001b[1;33m\u001b[0m\u001b[0m\n\u001b[1;32m----> 6\u001b[1;33m \u001b[0mt_IP\u001b[0m \u001b[1;33m=\u001b[0m \u001b[0msocket\u001b[0m\u001b[1;33m.\u001b[0m\u001b[0mgethostbyname\u001b[0m\u001b[1;33m(\u001b[0m\u001b[0mtarget\u001b[0m\u001b[1;33m)\u001b[0m\u001b[1;33m\u001b[0m\u001b[1;33m\u001b[0m\u001b[0m\n\u001b[0m\u001b[0;32m      7\u001b[0m \u001b[0mprint\u001b[0m\u001b[1;33m(\u001b[0m\u001b[1;34m\"Starting scan on host: \"\u001b[0m\u001b[1;33m,\u001b[0m \u001b[0mt_IP\u001b[0m\u001b[1;33m)\u001b[0m\u001b[1;33m\u001b[0m\u001b[1;33m\u001b[0m\u001b[0m\n\u001b[0;32m      8\u001b[0m \u001b[1;31m#create function port_scan\u001b[0m\u001b[1;33m\u001b[0m\u001b[1;33m\u001b[0m\u001b[1;33m\u001b[0m\u001b[0m\n",
      "\u001b[1;31mgaierror\u001b[0m: [Errno 11001] getaddrinfo failed"
     ]
    }
   ],
   "source": [
    "# importing the sockets module\n",
    "import socket\n",
    "s = socket.socket(socket.AF_INET, socket.SOCK_STREAM)\n",
    "target = input('What you want to scan?: ')\n",
    "# getting the ip address using gethostbyname function\n",
    "t_IP = socket.gethostbyname(target)\n",
    "print(\"Starting scan on host: \", t_IP)\n",
    "#create function port_scan\n",
    "def port_scan(port):\n",
    "    try:\n",
    "        s.connect((t_IP, port))\n",
    "        return True\n",
    "    except:\n",
    "        return False\n",
    "#user input to ask for port number to be scanned\n",
    "port = int(input(\"Enter the port number to be scanned: \"))\n",
    "if port_scan(port):\n",
    "    print('Port', port, 'is open')\n",
    "else:\n",
    "    print(\"port\", port, \"is closed\")"
   ]
  },
  {
   "cell_type": "code",
   "execution_count": null,
   "metadata": {},
   "outputs": [],
   "source": []
  }
 ],
 "metadata": {
  "kernelspec": {
   "display_name": "Python 3",
   "language": "python",
   "name": "python3"
  },
  "language_info": {
   "codemirror_mode": {
    "name": "ipython",
    "version": 3
   },
   "file_extension": ".py",
   "mimetype": "text/x-python",
   "name": "python",
   "nbconvert_exporter": "python",
   "pygments_lexer": "ipython3",
   "version": "3.8.5"
  }
 },
 "nbformat": 4,
 "nbformat_minor": 4
}
